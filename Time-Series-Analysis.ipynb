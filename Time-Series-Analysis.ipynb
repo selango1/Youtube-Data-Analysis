{
 "cells": [
  {
   "cell_type": "markdown",
   "id": "01c2086a",
   "metadata": {
    "papermill": {
     "duration": 0.006954,
     "end_time": "2024-02-23T23:56:17.903620",
     "exception": false,
     "start_time": "2024-02-23T23:56:17.896666",
     "status": "completed"
    },
    "tags": []
   },
   "source": [
    "# Analysing \"publish_time\" that has both the days and time to see which hour and day of week are trending \n",
    "* First Step\n",
    " * Load the dataset, selecting one of the country for sample\n",
    " * Mapping the dataset for category to get an overall picture of the type of videos uplaoded\n",
    "* Second Step\n",
    " * Fixing the data types of the values which might be useful when plotting the time series analysis\n",
    "* Third Step\n",
    " * Analyse the trends based on the hour uploaded\n",
    " * Analyse the trends based on the day it was uploaded"
   ]
  },
  {
   "cell_type": "code",
   "execution_count": 1,
   "id": "65d27244",
   "metadata": {
    "_cell_guid": "b1076dfc-b9ad-4769-8c92-a6c4dae69d19",
    "_uuid": "8f2839f25d086af736a60e9eeb907d3b93b6e0e5",
    "execution": {
     "iopub.execute_input": "2024-02-23T23:56:17.917796Z",
     "iopub.status.busy": "2024-02-23T23:56:17.917422Z",
     "iopub.status.idle": "2024-02-23T23:56:18.955158Z",
     "shell.execute_reply": "2024-02-23T23:56:18.953298Z"
    },
    "papermill": {
     "duration": 1.047963,
     "end_time": "2024-02-23T23:56:18.958088",
     "exception": false,
     "start_time": "2024-02-23T23:56:17.910125",
     "status": "completed"
    },
    "tags": []
   },
   "outputs": [
    {
     "name": "stdout",
     "output_type": "stream",
     "text": [
      "/kaggle/input/youtube-new/GBvideos.csv\n",
      "/kaggle/input/youtube-new/MXvideos.csv\n",
      "/kaggle/input/youtube-new/KRvideos.csv\n",
      "/kaggle/input/youtube-new/MX_category_id.json\n",
      "/kaggle/input/youtube-new/GB_category_id.json\n",
      "/kaggle/input/youtube-new/US_category_id.json\n",
      "/kaggle/input/youtube-new/IN_category_id.json\n",
      "/kaggle/input/youtube-new/DEvideos.csv\n",
      "/kaggle/input/youtube-new/KR_category_id.json\n",
      "/kaggle/input/youtube-new/RU_category_id.json\n",
      "/kaggle/input/youtube-new/FRvideos.csv\n",
      "/kaggle/input/youtube-new/USvideos.csv\n",
      "/kaggle/input/youtube-new/INvideos.csv\n",
      "/kaggle/input/youtube-new/RUvideos.csv\n",
      "/kaggle/input/youtube-new/CA_category_id.json\n",
      "/kaggle/input/youtube-new/DE_category_id.json\n",
      "/kaggle/input/youtube-new/JP_category_id.json\n",
      "/kaggle/input/youtube-new/JPvideos.csv\n",
      "/kaggle/input/youtube-new/FR_category_id.json\n",
      "/kaggle/input/youtube-new/CAvideos.csv\n"
     ]
    }
   ],
   "source": [
    "# This Python 3 environment comes with many helpful analytics libraries installed\n",
    "# It is defined by the kaggle/python Docker image: https://github.com/kaggle/docker-python\n",
    "# For example, here's several helpful packages to load\n",
    "\n",
    "import numpy as np # linear algebra\n",
    "import pandas as pd # data processing, CSV file I/O (e.g. pd.read_csv)\n",
    "\n",
    "# Input data files are available in the read-only \"../input/\" directory\n",
    "# For example, running this (by clicking run or pressing Shift+Enter) will list all files under the input directory\n",
    "\n",
    "import os\n",
    "for dirname, _, filenames in os.walk('/kaggle/input'):\n",
    "    for filename in filenames:\n",
    "        print(os.path.join(dirname, filename))\n",
    "\n",
    "# You can write up to 20GB to the current directory (/kaggle/working/) that gets preserved as output when you create a version using \"Save & Run All\" \n",
    "# You can also write temporary files to /kaggle/temp/, but they won't be saved outside of the current session"
   ]
  },
  {
   "cell_type": "markdown",
   "id": "63750a3d",
   "metadata": {
    "papermill": {
     "duration": 0.006047,
     "end_time": "2024-02-23T23:56:18.970586",
     "exception": false,
     "start_time": "2024-02-23T23:56:18.964539",
     "status": "completed"
    },
    "tags": []
   },
   "source": [
    "# Loading the Youtube Canada dataset"
   ]
  },
  {
   "cell_type": "code",
   "execution_count": 2,
   "id": "dc74860f",
   "metadata": {
    "execution": {
     "iopub.execute_input": "2024-02-23T23:56:18.986036Z",
     "iopub.status.busy": "2024-02-23T23:56:18.985169Z",
     "iopub.status.idle": "2024-02-23T23:56:21.159836Z",
     "shell.execute_reply": "2024-02-23T23:56:21.158706Z"
    },
    "papermill": {
     "duration": 2.185537,
     "end_time": "2024-02-23T23:56:21.162398",
     "exception": false,
     "start_time": "2024-02-23T23:56:18.976861",
     "status": "completed"
    },
    "tags": []
   },
   "outputs": [
    {
     "data": {
      "text/html": [
       "<div>\n",
       "<style scoped>\n",
       "    .dataframe tbody tr th:only-of-type {\n",
       "        vertical-align: middle;\n",
       "    }\n",
       "\n",
       "    .dataframe tbody tr th {\n",
       "        vertical-align: top;\n",
       "    }\n",
       "\n",
       "    .dataframe thead th {\n",
       "        text-align: right;\n",
       "    }\n",
       "</style>\n",
       "<table border=\"1\" class=\"dataframe\">\n",
       "  <thead>\n",
       "    <tr style=\"text-align: right;\">\n",
       "      <th></th>\n",
       "      <th>video_id</th>\n",
       "      <th>trending_date</th>\n",
       "      <th>title</th>\n",
       "      <th>channel_title</th>\n",
       "      <th>category_id</th>\n",
       "      <th>publish_time</th>\n",
       "      <th>tags</th>\n",
       "      <th>views</th>\n",
       "      <th>likes</th>\n",
       "      <th>dislikes</th>\n",
       "      <th>comment_count</th>\n",
       "      <th>thumbnail_link</th>\n",
       "      <th>comments_disabled</th>\n",
       "      <th>ratings_disabled</th>\n",
       "      <th>video_error_or_removed</th>\n",
       "      <th>description</th>\n",
       "    </tr>\n",
       "  </thead>\n",
       "  <tbody>\n",
       "    <tr>\n",
       "      <th>0</th>\n",
       "      <td>n1WpP7iowLc</td>\n",
       "      <td>17.14.11</td>\n",
       "      <td>Eminem - Walk On Water (Audio) ft. Beyoncé</td>\n",
       "      <td>EminemVEVO</td>\n",
       "      <td>10</td>\n",
       "      <td>2017-11-10T17:00:03.000Z</td>\n",
       "      <td>Eminem|\"Walk\"|\"On\"|\"Water\"|\"Aftermath/Shady/In...</td>\n",
       "      <td>17158579</td>\n",
       "      <td>787425</td>\n",
       "      <td>43420</td>\n",
       "      <td>125882</td>\n",
       "      <td>https://i.ytimg.com/vi/n1WpP7iowLc/default.jpg</td>\n",
       "      <td>False</td>\n",
       "      <td>False</td>\n",
       "      <td>False</td>\n",
       "      <td>Eminem's new track Walk on Water ft. Beyoncé i...</td>\n",
       "    </tr>\n",
       "    <tr>\n",
       "      <th>1</th>\n",
       "      <td>0dBIkQ4Mz1M</td>\n",
       "      <td>17.14.11</td>\n",
       "      <td>PLUSH - Bad Unboxing Fan Mail</td>\n",
       "      <td>iDubbbzTV</td>\n",
       "      <td>23</td>\n",
       "      <td>2017-11-13T17:00:00.000Z</td>\n",
       "      <td>plush|\"bad unboxing\"|\"unboxing\"|\"fan mail\"|\"id...</td>\n",
       "      <td>1014651</td>\n",
       "      <td>127794</td>\n",
       "      <td>1688</td>\n",
       "      <td>13030</td>\n",
       "      <td>https://i.ytimg.com/vi/0dBIkQ4Mz1M/default.jpg</td>\n",
       "      <td>False</td>\n",
       "      <td>False</td>\n",
       "      <td>False</td>\n",
       "      <td>STill got a lot of packages. Probably will las...</td>\n",
       "    </tr>\n",
       "    <tr>\n",
       "      <th>2</th>\n",
       "      <td>5qpjK5DgCt4</td>\n",
       "      <td>17.14.11</td>\n",
       "      <td>Racist Superman | Rudy Mancuso, King Bach &amp; Le...</td>\n",
       "      <td>Rudy Mancuso</td>\n",
       "      <td>23</td>\n",
       "      <td>2017-11-12T19:05:24.000Z</td>\n",
       "      <td>racist superman|\"rudy\"|\"mancuso\"|\"king\"|\"bach\"...</td>\n",
       "      <td>3191434</td>\n",
       "      <td>146035</td>\n",
       "      <td>5339</td>\n",
       "      <td>8181</td>\n",
       "      <td>https://i.ytimg.com/vi/5qpjK5DgCt4/default.jpg</td>\n",
       "      <td>False</td>\n",
       "      <td>False</td>\n",
       "      <td>False</td>\n",
       "      <td>WATCH MY PREVIOUS VIDEO ▶ \\n\\nSUBSCRIBE ► http...</td>\n",
       "    </tr>\n",
       "  </tbody>\n",
       "</table>\n",
       "</div>"
      ],
      "text/plain": [
       "      video_id trending_date  \\\n",
       "0  n1WpP7iowLc      17.14.11   \n",
       "1  0dBIkQ4Mz1M      17.14.11   \n",
       "2  5qpjK5DgCt4      17.14.11   \n",
       "\n",
       "                                               title channel_title  \\\n",
       "0         Eminem - Walk On Water (Audio) ft. Beyoncé    EminemVEVO   \n",
       "1                      PLUSH - Bad Unboxing Fan Mail     iDubbbzTV   \n",
       "2  Racist Superman | Rudy Mancuso, King Bach & Le...  Rudy Mancuso   \n",
       "\n",
       "   category_id              publish_time  \\\n",
       "0           10  2017-11-10T17:00:03.000Z   \n",
       "1           23  2017-11-13T17:00:00.000Z   \n",
       "2           23  2017-11-12T19:05:24.000Z   \n",
       "\n",
       "                                                tags     views   likes  \\\n",
       "0  Eminem|\"Walk\"|\"On\"|\"Water\"|\"Aftermath/Shady/In...  17158579  787425   \n",
       "1  plush|\"bad unboxing\"|\"unboxing\"|\"fan mail\"|\"id...   1014651  127794   \n",
       "2  racist superman|\"rudy\"|\"mancuso\"|\"king\"|\"bach\"...   3191434  146035   \n",
       "\n",
       "   dislikes  comment_count                                  thumbnail_link  \\\n",
       "0     43420         125882  https://i.ytimg.com/vi/n1WpP7iowLc/default.jpg   \n",
       "1      1688          13030  https://i.ytimg.com/vi/0dBIkQ4Mz1M/default.jpg   \n",
       "2      5339           8181  https://i.ytimg.com/vi/5qpjK5DgCt4/default.jpg   \n",
       "\n",
       "   comments_disabled  ratings_disabled  video_error_or_removed  \\\n",
       "0              False             False                   False   \n",
       "1              False             False                   False   \n",
       "2              False             False                   False   \n",
       "\n",
       "                                         description  \n",
       "0  Eminem's new track Walk on Water ft. Beyoncé i...  \n",
       "1  STill got a lot of packages. Probably will las...  \n",
       "2  WATCH MY PREVIOUS VIDEO ▶ \\n\\nSUBSCRIBE ► http...  "
      ]
     },
     "execution_count": 2,
     "metadata": {},
     "output_type": "execute_result"
    }
   ],
   "source": [
    "#perform some simple exploratory data analysis.\n",
    "CAvideos =pd.read_csv(\"/kaggle/input/youtube-new/CAvideos.csv\")\n",
    "\n",
    "#first few rows of the canadian dataset\n",
    "CAvideos.head(3)"
   ]
  },
  {
   "cell_type": "markdown",
   "id": "5326859b",
   "metadata": {
    "papermill": {
     "duration": 0.006555,
     "end_time": "2024-02-23T23:56:21.175724",
     "exception": false,
     "start_time": "2024-02-23T23:56:21.169169",
     "status": "completed"
    },
    "tags": []
   },
   "source": [
    "# Mapping the category_name from the json file to the category ID"
   ]
  },
  {
   "cell_type": "code",
   "execution_count": 3,
   "id": "dc7c67d9",
   "metadata": {
    "execution": {
     "iopub.execute_input": "2024-02-23T23:56:21.190649Z",
     "iopub.status.busy": "2024-02-23T23:56:21.190247Z",
     "iopub.status.idle": "2024-02-23T23:56:21.216495Z",
     "shell.execute_reply": "2024-02-23T23:56:21.215520Z"
    },
    "papermill": {
     "duration": 0.036675,
     "end_time": "2024-02-23T23:56:21.219043",
     "exception": false,
     "start_time": "2024-02-23T23:56:21.182368",
     "status": "completed"
    },
    "tags": []
   },
   "outputs": [],
   "source": [
    "#Mapping the categpories from the json file to the current dataset to better understand the date\n",
    "import json\n",
    "\n",
    "# Read the JSON file containing category information\n",
    "#using the UScategory since it has names for all ids. The CAcategory json file has missing name for ID=29\n",
    "with open('/kaggle/input/youtube-new/US_category_id.json', 'r') as file:\n",
    "    category_data = json.load(file)\n",
    "\n",
    "# Parse the JSON data to extract category names and IDs\n",
    "category_mapping = {}\n",
    "for category in category_data['items']:\n",
    "    category_id = int(category['id'])\n",
    "    category_name = category['snippet']['title']\n",
    "    category_mapping[category_id] = category_name\n",
    "\n",
    "    \n",
    "# Map category IDs to category names in the dataset\n",
    "CAvideos['category'] = CAvideos['category_id'].map(category_mapping)\n",
    "#moving the category next to the ids\n",
    "\n",
    "column = CAvideos.pop('category')\n",
    "CAvideos.insert(5,'category',column)\n"
   ]
  },
  {
   "cell_type": "code",
   "execution_count": 4,
   "id": "45b768dd",
   "metadata": {
    "execution": {
     "iopub.execute_input": "2024-02-23T23:56:21.235144Z",
     "iopub.status.busy": "2024-02-23T23:56:21.234498Z",
     "iopub.status.idle": "2024-02-23T23:56:21.302038Z",
     "shell.execute_reply": "2024-02-23T23:56:21.300312Z"
    },
    "papermill": {
     "duration": 0.078593,
     "end_time": "2024-02-23T23:56:21.304866",
     "exception": false,
     "start_time": "2024-02-23T23:56:21.226273",
     "status": "completed"
    },
    "tags": []
   },
   "outputs": [
    {
     "name": "stdout",
     "output_type": "stream",
     "text": [
      "<class 'pandas.core.frame.DataFrame'>\n",
      "RangeIndex: 40881 entries, 0 to 40880\n",
      "Data columns (total 17 columns):\n",
      " #   Column                  Non-Null Count  Dtype \n",
      "---  ------                  --------------  ----- \n",
      " 0   video_id                40881 non-null  object\n",
      " 1   trending_date           40881 non-null  object\n",
      " 2   title                   40881 non-null  object\n",
      " 3   channel_title           40881 non-null  object\n",
      " 4   category_id             40881 non-null  int64 \n",
      " 5   category                40881 non-null  object\n",
      " 6   publish_time            40881 non-null  object\n",
      " 7   tags                    40881 non-null  object\n",
      " 8   views                   40881 non-null  int64 \n",
      " 9   likes                   40881 non-null  int64 \n",
      " 10  dislikes                40881 non-null  int64 \n",
      " 11  comment_count           40881 non-null  int64 \n",
      " 12  thumbnail_link          40881 non-null  object\n",
      " 13  comments_disabled       40881 non-null  bool  \n",
      " 14  ratings_disabled        40881 non-null  bool  \n",
      " 15  video_error_or_removed  40881 non-null  bool  \n",
      " 16  description             39585 non-null  object\n",
      "dtypes: bool(3), int64(5), object(9)\n",
      "memory usage: 4.5+ MB\n"
     ]
    }
   ],
   "source": [
    "CAvideos.info()"
   ]
  },
  {
   "cell_type": "markdown",
   "id": "68eb3df0",
   "metadata": {
    "papermill": {
     "duration": 0.006632,
     "end_time": "2024-02-23T23:56:21.318374",
     "exception": false,
     "start_time": "2024-02-23T23:56:21.311742",
     "status": "completed"
    },
    "tags": []
   },
   "source": [
    "# Fixing the Data type\n",
    "* Trending date\n",
    "* Boolean values \n",
    "* Publish Time"
   ]
  },
  {
   "cell_type": "code",
   "execution_count": 5,
   "id": "cecd69fa",
   "metadata": {
    "execution": {
     "iopub.execute_input": "2024-02-23T23:56:21.333653Z",
     "iopub.status.busy": "2024-02-23T23:56:21.333256Z",
     "iopub.status.idle": "2024-02-23T23:56:21.705106Z",
     "shell.execute_reply": "2024-02-23T23:56:21.703783Z"
    },
    "papermill": {
     "duration": 0.382911,
     "end_time": "2024-02-23T23:56:21.708053",
     "exception": false,
     "start_time": "2024-02-23T23:56:21.325142",
     "status": "completed"
    },
    "tags": []
   },
   "outputs": [
    {
     "name": "stdout",
     "output_type": "stream",
     "text": [
      "<class 'pandas.core.frame.DataFrame'>\n",
      "RangeIndex: 40881 entries, 0 to 40880\n",
      "Data columns (total 17 columns):\n",
      " #   Column                  Non-Null Count  Dtype         \n",
      "---  ------                  --------------  -----         \n",
      " 0   video_id                40881 non-null  object        \n",
      " 1   trending_date           40881 non-null  datetime64[ns]\n",
      " 2   title                   40881 non-null  object        \n",
      " 3   channel_title           40881 non-null  object        \n",
      " 4   category_id             40881 non-null  int64         \n",
      " 5   category                40881 non-null  object        \n",
      " 6   publish_time            40881 non-null  datetime64[ns]\n",
      " 7   tags                    40881 non-null  object        \n",
      " 8   views                   40881 non-null  int64         \n",
      " 9   likes                   40881 non-null  int64         \n",
      " 10  dislikes                40881 non-null  int64         \n",
      " 11  comment_count           40881 non-null  int64         \n",
      " 12  thumbnail_link          40881 non-null  object        \n",
      " 13  comments_disabled       40881 non-null  category      \n",
      " 14  ratings_disabled        40881 non-null  category      \n",
      " 15  video_error_or_removed  40881 non-null  category      \n",
      " 16  description             39585 non-null  object        \n",
      "dtypes: category(3), datetime64[ns](2), int64(5), object(7)\n",
      "memory usage: 4.5+ MB\n"
     ]
    },
    {
     "data": {
      "text/html": [
       "<div>\n",
       "<style scoped>\n",
       "    .dataframe tbody tr th:only-of-type {\n",
       "        vertical-align: middle;\n",
       "    }\n",
       "\n",
       "    .dataframe tbody tr th {\n",
       "        vertical-align: top;\n",
       "    }\n",
       "\n",
       "    .dataframe thead th {\n",
       "        text-align: right;\n",
       "    }\n",
       "</style>\n",
       "<table border=\"1\" class=\"dataframe\">\n",
       "  <thead>\n",
       "    <tr style=\"text-align: right;\">\n",
       "      <th></th>\n",
       "      <th>video_id</th>\n",
       "      <th>trending_date</th>\n",
       "      <th>title</th>\n",
       "      <th>channel_title</th>\n",
       "      <th>category_id</th>\n",
       "      <th>category</th>\n",
       "      <th>publish_time</th>\n",
       "      <th>tags</th>\n",
       "      <th>views</th>\n",
       "      <th>likes</th>\n",
       "      <th>dislikes</th>\n",
       "      <th>comment_count</th>\n",
       "      <th>thumbnail_link</th>\n",
       "      <th>comments_disabled</th>\n",
       "      <th>ratings_disabled</th>\n",
       "      <th>video_error_or_removed</th>\n",
       "      <th>description</th>\n",
       "    </tr>\n",
       "  </thead>\n",
       "  <tbody>\n",
       "    <tr>\n",
       "      <th>0</th>\n",
       "      <td>n1WpP7iowLc</td>\n",
       "      <td>2017-11-14</td>\n",
       "      <td>Eminem - Walk On Water (Audio) ft. Beyoncé</td>\n",
       "      <td>EminemVEVO</td>\n",
       "      <td>10</td>\n",
       "      <td>Music</td>\n",
       "      <td>2017-11-10 17:00:03</td>\n",
       "      <td>Eminem|\"Walk\"|\"On\"|\"Water\"|\"Aftermath/Shady/In...</td>\n",
       "      <td>17158579</td>\n",
       "      <td>787425</td>\n",
       "      <td>43420</td>\n",
       "      <td>125882</td>\n",
       "      <td>https://i.ytimg.com/vi/n1WpP7iowLc/default.jpg</td>\n",
       "      <td>False</td>\n",
       "      <td>False</td>\n",
       "      <td>False</td>\n",
       "      <td>Eminem's new track Walk on Water ft. Beyoncé i...</td>\n",
       "    </tr>\n",
       "    <tr>\n",
       "      <th>1</th>\n",
       "      <td>0dBIkQ4Mz1M</td>\n",
       "      <td>2017-11-14</td>\n",
       "      <td>PLUSH - Bad Unboxing Fan Mail</td>\n",
       "      <td>iDubbbzTV</td>\n",
       "      <td>23</td>\n",
       "      <td>Comedy</td>\n",
       "      <td>2017-11-13 17:00:00</td>\n",
       "      <td>plush|\"bad unboxing\"|\"unboxing\"|\"fan mail\"|\"id...</td>\n",
       "      <td>1014651</td>\n",
       "      <td>127794</td>\n",
       "      <td>1688</td>\n",
       "      <td>13030</td>\n",
       "      <td>https://i.ytimg.com/vi/0dBIkQ4Mz1M/default.jpg</td>\n",
       "      <td>False</td>\n",
       "      <td>False</td>\n",
       "      <td>False</td>\n",
       "      <td>STill got a lot of packages. Probably will las...</td>\n",
       "    </tr>\n",
       "    <tr>\n",
       "      <th>2</th>\n",
       "      <td>5qpjK5DgCt4</td>\n",
       "      <td>2017-11-14</td>\n",
       "      <td>Racist Superman | Rudy Mancuso, King Bach &amp; Le...</td>\n",
       "      <td>Rudy Mancuso</td>\n",
       "      <td>23</td>\n",
       "      <td>Comedy</td>\n",
       "      <td>2017-11-12 19:05:24</td>\n",
       "      <td>racist superman|\"rudy\"|\"mancuso\"|\"king\"|\"bach\"...</td>\n",
       "      <td>3191434</td>\n",
       "      <td>146035</td>\n",
       "      <td>5339</td>\n",
       "      <td>8181</td>\n",
       "      <td>https://i.ytimg.com/vi/5qpjK5DgCt4/default.jpg</td>\n",
       "      <td>False</td>\n",
       "      <td>False</td>\n",
       "      <td>False</td>\n",
       "      <td>WATCH MY PREVIOUS VIDEO ▶ \\n\\nSUBSCRIBE ► http...</td>\n",
       "    </tr>\n",
       "  </tbody>\n",
       "</table>\n",
       "</div>"
      ],
      "text/plain": [
       "      video_id trending_date  \\\n",
       "0  n1WpP7iowLc    2017-11-14   \n",
       "1  0dBIkQ4Mz1M    2017-11-14   \n",
       "2  5qpjK5DgCt4    2017-11-14   \n",
       "\n",
       "                                               title channel_title  \\\n",
       "0         Eminem - Walk On Water (Audio) ft. Beyoncé    EminemVEVO   \n",
       "1                      PLUSH - Bad Unboxing Fan Mail     iDubbbzTV   \n",
       "2  Racist Superman | Rudy Mancuso, King Bach & Le...  Rudy Mancuso   \n",
       "\n",
       "   category_id category        publish_time  \\\n",
       "0           10    Music 2017-11-10 17:00:03   \n",
       "1           23   Comedy 2017-11-13 17:00:00   \n",
       "2           23   Comedy 2017-11-12 19:05:24   \n",
       "\n",
       "                                                tags     views   likes  \\\n",
       "0  Eminem|\"Walk\"|\"On\"|\"Water\"|\"Aftermath/Shady/In...  17158579  787425   \n",
       "1  plush|\"bad unboxing\"|\"unboxing\"|\"fan mail\"|\"id...   1014651  127794   \n",
       "2  racist superman|\"rudy\"|\"mancuso\"|\"king\"|\"bach\"...   3191434  146035   \n",
       "\n",
       "   dislikes  comment_count                                  thumbnail_link  \\\n",
       "0     43420         125882  https://i.ytimg.com/vi/n1WpP7iowLc/default.jpg   \n",
       "1      1688          13030  https://i.ytimg.com/vi/0dBIkQ4Mz1M/default.jpg   \n",
       "2      5339           8181  https://i.ytimg.com/vi/5qpjK5DgCt4/default.jpg   \n",
       "\n",
       "  comments_disabled ratings_disabled video_error_or_removed  \\\n",
       "0             False            False                  False   \n",
       "1             False            False                  False   \n",
       "2             False            False                  False   \n",
       "\n",
       "                                         description  \n",
       "0  Eminem's new track Walk on Water ft. Beyoncé i...  \n",
       "1  STill got a lot of packages. Probably will las...  \n",
       "2  WATCH MY PREVIOUS VIDEO ▶ \\n\\nSUBSCRIBE ► http...  "
      ]
     },
     "execution_count": 5,
     "metadata": {},
     "output_type": "execute_result"
    }
   ],
   "source": [
    "#changing boolean types to categories\n",
    "CAvideos['comments_disabled']= CAvideos['comments_disabled'].astype('category')\n",
    "CAvideos['ratings_disabled']=CAvideos['ratings_disabled'].astype('category')\n",
    "CAvideos['video_error_or_removed']=CAvideos['video_error_or_removed'].astype('category')\n",
    "\n",
    "\n",
    "#changing trending date type to datetime format\n",
    "CAvideos['trending_date']= pd.to_datetime(CAvideos.trending_date,format='%y.%d.%m')\n",
    "\n",
    "#Changing publish time to date time format and seperating to publish time and publish date\n",
    "CAvideos['publish_time'] =pd.to_datetime(CAvideos['publish_time'], errors='coerce', format = '%Y-%m-%dT%H:%M:%S.%fZ')\n",
    "\n",
    "#checking if the changes have implemented\n",
    "CAvideos.info()\n",
    "CAvideos.head(3)"
   ]
  },
  {
   "cell_type": "code",
   "execution_count": 6,
   "id": "f277f4e5",
   "metadata": {
    "execution": {
     "iopub.execute_input": "2024-02-23T23:56:21.724951Z",
     "iopub.status.busy": "2024-02-23T23:56:21.724273Z",
     "iopub.status.idle": "2024-02-23T23:56:21.733143Z",
     "shell.execute_reply": "2024-02-23T23:56:21.732001Z"
    },
    "papermill": {
     "duration": 0.020232,
     "end_time": "2024-02-23T23:56:21.735628",
     "exception": false,
     "start_time": "2024-02-23T23:56:21.715396",
     "status": "completed"
    },
    "tags": []
   },
   "outputs": [
    {
     "data": {
      "text/plain": [
       "\"\\n# If you want to reorder the columns for easier access\\n\\n# Reorder columns to insert 'publish_date' and 'publish_time' next to each other\\n# Get the index of 'publish_time' column\\npublish_time_index = CAvideos.columns.get_loc('publish_time')\\n\\n# Insert 'publish_date' column next to 'publish_time'\\nCAvideos.insert(publish_time_index + 1, 'publish_date', CAvideos.pop('publish_date'))\\n\""
      ]
     },
     "execution_count": 6,
     "metadata": {},
     "output_type": "execute_result"
    }
   ],
   "source": [
    "\"\"\"\n",
    "# If you want to reorder the columns for easier access\n",
    "\n",
    "# Reorder columns to insert 'publish_date' and 'publish_time' next to each other\n",
    "# Get the index of 'publish_time' column\n",
    "publish_time_index = CAvideos.columns.get_loc('publish_time')\n",
    "\n",
    "# Insert 'publish_date' column next to 'publish_time'\n",
    "CAvideos.insert(publish_time_index + 1, 'publish_date', CAvideos.pop('publish_date'))\n",
    "\"\"\""
   ]
  },
  {
   "cell_type": "markdown",
   "id": "bae15b90",
   "metadata": {
    "papermill": {
     "duration": 0.007423,
     "end_time": "2024-02-23T23:56:21.750648",
     "exception": false,
     "start_time": "2024-02-23T23:56:21.743225",
     "status": "completed"
    },
    "tags": []
   },
   "source": [
    "# Time Series Analysis\n",
    "## It is clear that the trending attributes are number of views, likes, dislikes, comment count\n",
    "### 1. Analysing the trend based on the uploaded hour (24hrs).\n",
    "### 2. Anlaysing the trend based on the uploaded day of the week."
   ]
  },
  {
   "cell_type": "markdown",
   "id": "336f5d2e",
   "metadata": {
    "papermill": {
     "duration": 0.007133,
     "end_time": "2024-02-23T23:56:21.765379",
     "exception": false,
     "start_time": "2024-02-23T23:56:21.758246",
     "status": "completed"
    },
    "tags": []
   },
   "source": [
    "#### 1. "
   ]
  },
  {
   "cell_type": "code",
   "execution_count": 7,
   "id": "70cf9d7e",
   "metadata": {
    "execution": {
     "iopub.execute_input": "2024-02-23T23:56:21.782561Z",
     "iopub.status.busy": "2024-02-23T23:56:21.782157Z",
     "iopub.status.idle": "2024-02-23T23:56:22.266252Z",
     "shell.execute_reply": "2024-02-23T23:56:22.264960Z"
    },
    "papermill": {
     "duration": 0.496379,
     "end_time": "2024-02-23T23:56:22.269209",
     "exception": false,
     "start_time": "2024-02-23T23:56:21.772830",
     "status": "completed"
    },
    "tags": []
   },
   "outputs": [
    {
     "data": {
      "image/png": "[encoded data removed]",
      "text/plain": [
       "<Figure size 1200x600 with 1 Axes>"
      ]
     },
     "metadata": {},
     "output_type": "display_data"
    }
   ],
   "source": [
    "# Assuming df is your DataFrame containing the YouTube dataset\n",
    "import matplotlib.pyplot as plt\n",
    "\n",
    "# Convert 'publish_time' to datetime format\n",
    "CAvideos['publish_time'] = pd.to_datetime(CAvideos['publish_time'])\n",
    "\n",
    "# Extract the hour component from 'publish_time'\n",
    "CAvideos['publish_hour'] = CAvideos['publish_time'].dt.hour\n",
    "\n",
    "# Group by 'publish_hour' and aggregate metrics\n",
    "hourly_metrics = CAvideos.groupby('publish_hour').agg({\n",
    "    'views': 'mean',\n",
    "    'likes': 'mean',\n",
    "    'dislikes': 'mean',\n",
    "    'comment_count': 'mean'\n",
    "}).reset_index()\n",
    "\n",
    "# Plotting the metrics over publish time\n",
    "plt.figure(figsize=(12, 6))\n",
    "plt.plot(hourly_metrics['publish_hour'], hourly_metrics['views'], label='Views')\n",
    "plt.plot(hourly_metrics['publish_hour'], hourly_metrics['likes'], label='Likes')\n",
    "plt.plot(hourly_metrics['publish_hour'], hourly_metrics['dislikes'], label='Dislikes')\n",
    "plt.plot(hourly_metrics['publish_hour'], hourly_metrics['comment_count'], label='Comment Count')\n",
    "plt.xlabel('Publish Hour')\n",
    "plt.ylabel('Mean Count')\n",
    "plt.title('Metrics by Publish Hour')\n",
    "plt.legend()\n",
    "plt.xticks(range(24))  # Set x-axis ticks to show all hours\n",
    "plt.grid(True)\n",
    "plt.show()"
   ]
  },
  {
   "cell_type": "markdown",
   "id": "755840e9",
   "metadata": {
    "papermill": {
     "duration": 0.008282,
     "end_time": "2024-02-23T23:56:22.286118",
     "exception": false,
     "start_time": "2024-02-23T23:56:22.277836",
     "status": "completed"
    },
    "tags": []
   },
   "source": [
    "### Preprocessing the dataset for 2nd analysis"
   ]
  },
  {
   "cell_type": "code",
   "execution_count": 8,
   "id": "6aa41285",
   "metadata": {
    "execution": {
     "iopub.execute_input": "2024-02-23T23:56:22.304747Z",
     "iopub.status.busy": "2024-02-23T23:56:22.304355Z",
     "iopub.status.idle": "2024-02-23T23:56:26.729381Z",
     "shell.execute_reply": "2024-02-23T23:56:26.728048Z"
    },
    "papermill": {
     "duration": 4.438026,
     "end_time": "2024-02-23T23:56:26.732504",
     "exception": false,
     "start_time": "2024-02-23T23:56:22.294478",
     "status": "completed"
    },
    "tags": []
   },
   "outputs": [],
   "source": [
    "from dateutil import parser\n",
    "CAvideos['publish_time'] = CAvideos['publish_time'].astype('str')\n",
    "CAvideos['publish_time'] =  CAvideos['publish_time'].apply(lambda x: parser.parse(x)) \n",
    "CAvideos['publish_day'] = CAvideos['publish_time'].apply(lambda x: x.strftime(\"%A\")) "
   ]
  },
  {
   "cell_type": "code",
   "execution_count": 9,
   "id": "443716fb",
   "metadata": {
    "execution": {
     "iopub.execute_input": "2024-02-23T23:56:26.753819Z",
     "iopub.status.busy": "2024-02-23T23:56:26.753454Z",
     "iopub.status.idle": "2024-02-23T23:56:26.771661Z",
     "shell.execute_reply": "2024-02-23T23:56:26.770518Z"
    },
    "papermill": {
     "duration": 0.032823,
     "end_time": "2024-02-23T23:56:26.774272",
     "exception": false,
     "start_time": "2024-02-23T23:56:26.741449",
     "status": "completed"
    },
    "tags": []
   },
   "outputs": [
    {
     "name": "stdout",
     "output_type": "stream",
     "text": [
      "publish_day\n",
      "Friday       7012\n",
      "Thursday     5956\n",
      "Monday       5876\n",
      "Tuesday      5865\n",
      "Wednesday    5517\n",
      "Sunday       5406\n",
      "Saturday     5249\n",
      "Name: count, dtype: int64\n"
     ]
    }
   ],
   "source": [
    "print(CAvideos['publish_day'].value_counts())"
   ]
  },
  {
   "cell_type": "code",
   "execution_count": 10,
   "id": "591bdfd3",
   "metadata": {
    "execution": {
     "iopub.execute_input": "2024-02-23T23:56:26.793770Z",
     "iopub.status.busy": "2024-02-23T23:56:26.793384Z",
     "iopub.status.idle": "2024-02-23T23:56:27.132322Z",
     "shell.execute_reply": "2024-02-23T23:56:27.131313Z"
    },
    "papermill": {
     "duration": 0.351368,
     "end_time": "2024-02-23T23:56:27.134576",
     "exception": false,
     "start_time": "2024-02-23T23:56:26.783208",
     "status": "completed"
    },
    "tags": []
   },
   "outputs": [
    {
     "name": "stderr",
     "output_type": "stream",
     "text": [
      "/tmp/ipykernel_18/3971563622.py:8: FutureWarning: The default of observed=False is deprecated and will be changed to True in a future version of pandas. Pass observed=False to retain current behavior or observed=True to adopt the future default and silence this warning.\n",
      "  day_metrics = CAvideos.groupby('publish_day').agg({\n"
     ]
    },
    {
     "data": {
      "image/png": "[encoded data removed]",
      "text/plain": [
       "<Figure size 1200x600 with 1 Axes>"
      ]
     },
     "metadata": {},
     "output_type": "display_data"
    }
   ],
   "source": [
    "# Define the order of weekdays\n",
    "weekday_order = ['Monday', 'Tuesday', 'Wednesday', 'Thursday', 'Friday', 'Saturday', 'Sunday']\n",
    "\n",
    "# Convert 'publish_day' to a categorical variable with the defined order\n",
    "CAvideos['publish_day'] = pd.Categorical(CAvideos['publish_day'], categories=weekday_order, ordered=True)\n",
    "\n",
    "# Group by 'publish_day' and aggregate metrics\n",
    "day_metrics = CAvideos.groupby('publish_day').agg({\n",
    "    'views': 'mean',\n",
    "    'likes': 'mean',\n",
    "    'dislikes': 'mean',\n",
    "    'comment_count': 'mean'\n",
    "}).reset_index()\n",
    "\n",
    "# Plotting the metrics over publish time\n",
    "plt.figure(figsize=(12, 6))\n",
    "plt.plot(day_metrics['publish_day'], day_metrics['views'], label='Views')\n",
    "plt.plot(day_metrics['publish_day'], day_metrics['likes'], label='Likes')\n",
    "plt.plot(day_metrics['publish_day'], day_metrics['dislikes'], label='Dislikes')\n",
    "plt.plot(day_metrics['publish_day'], day_metrics['comment_count'], label='Comment Count')\n",
    "plt.xlabel('Weekday')\n",
    "plt.ylabel('Mean Count')\n",
    "plt.title('Metrics by Weekday')\n",
    "plt.legend()\n",
    "plt.xticks(rotation=45)  # Rotate x-axis labels for better readability\n",
    "plt.grid(True)\n",
    "plt.show()"
   ]
  },
  {
   "cell_type": "code",
   "execution_count": null,
   "id": "de228812",
   "metadata": {
    "papermill": {
     "duration": 0.009541,
     "end_time": "2024-02-23T23:56:27.153905",
     "exception": false,
     "start_time": "2024-02-23T23:56:27.144364",
     "status": "completed"
    },
    "tags": []
   },
   "outputs": [],
   "source": []
  }
 ],
 "metadata": {
  "kaggle": {
   "accelerator": "none",
   "dataSources": [
    {
     "datasetId": 4549,
     "sourceId": 466349,
     "sourceType": "datasetVersion"
    }
   ],
   "dockerImageVersionId": 30646,
   "isGpuEnabled": false,
   "isInternetEnabled": true,
   "language": "python",
   "sourceType": "notebook"
  },
  "kernelspec": {
   "display_name": "Python 3",
   "language": "python",
   "name": "python3"
  },
  "language_info": {
   "codemirror_mode": {
    "name": "ipython",
    "version": 3
   },
   "file_extension": ".py",
   "mimetype": "text/x-python",
   "name": "python",
   "nbconvert_exporter": "python",
   "pygments_lexer": "ipython3",
   "version": "3.10.13"
  },
  "papermill": {
   "default_parameters": {},
   "duration": 12.950559,
   "end_time": "2024-02-23T23:56:27.685157",
   "environment_variables": {},
   "exception": null,
   "input_path": "__notebook__.ipynb",
   "output_path": "__notebook__.ipynb",
   "parameters": {},
   "start_time": "2024-02-23T23:56:14.734598",
   "version": "2.5.0"
  }
 },
 "nbformat": 4,
 "nbformat_minor": 5
}
